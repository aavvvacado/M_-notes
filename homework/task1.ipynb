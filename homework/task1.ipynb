{
  "cells": [
    {
      "cell_type": "markdown",
      "id": "f82111d0",
      "metadata": {
        "id": "f82111d0"
      },
      "source": [
        "## TASK 1"
      ]
    },
    {
      "cell_type": "markdown",
      "id": "94dc2f6e",
      "metadata": {
        "id": "94dc2f6e"
      },
      "source": [
        "### submitted by vishal pratap singh"
      ]
    },
    {
      "cell_type": "markdown",
      "id": "7413c294",
      "metadata": {
        "id": "7413c294"
      },
      "source": [
        "### **Q1**"
      ]
    },
    {
      "cell_type": "code",
      "execution_count": null,
      "id": "e1d3d45a",
      "metadata": {
        "id": "e1d3d45a"
      },
      "outputs": [],
      "source": [
        "import numpy as np"
      ]
    },
    {
      "cell_type": "code",
      "execution_count": null,
      "id": "3181065e",
      "metadata": {
        "id": "3181065e",
        "outputId": "af74614b-5dba-45e3-fc5e-5ad26f1ee2b2"
      },
      "outputs": [
        {
          "name": "stdout",
          "output_type": "stream",
          "text": [
            "enter an element you want to get searched 4\n",
            "the searching element is found having index number is:2\n"
          ]
        }
      ],
      "source": [
        "#search an element\n",
        "arr=np.array([2,3,4,5])\n",
        "search=int(input(\"enter an element you want to get searched \"))\n",
        "idx=0\n",
        "for i in arr:\n",
        "    if search==i:\n",
        "        print(\"the searching element is found having index number is:\",end='')\n",
        "        print(idx)\n",
        "    else:\n",
        "        idx+=1\n",
        "\n",
        "if idx>=len(arr):\n",
        "    print(\"the searching element is not found\")"
      ]
    },
    {
      "cell_type": "markdown",
      "id": "fcb65377",
      "metadata": {
        "id": "fcb65377"
      },
      "source": [
        "###  **Q2**"
      ]
    },
    {
      "cell_type": "code",
      "execution_count": null,
      "id": "80bedc4c",
      "metadata": {
        "id": "80bedc4c",
        "outputId": "0b4025ed-c421-4b47-c1ec-2a1dee5daed2"
      },
      "outputs": [
        {
          "name": "stdout",
          "output_type": "stream",
          "text": [
            "5\n"
          ]
        }
      ],
      "source": [
        "#max\n",
        "arr=np.array([2,3,4,5])\n",
        "max=arr[0]\n",
        "for i in arr:\n",
        "    if i>max:\n",
        "        max=i\n",
        "print(max)\n",
        ""
      ]
    },
    {
      "cell_type": "markdown",
      "id": "adfd8bf7",
      "metadata": {
        "id": "adfd8bf7"
      },
      "source": [
        "## **Q3**\n"
      ]
    },
    {
      "cell_type": "code",
      "execution_count": null,
      "id": "94850abe",
      "metadata": {
        "id": "94850abe",
        "outputId": "c2fe2d2a-d4df-43a0-b68c-a0962c90d1bf"
      },
      "outputs": [
        {
          "name": "stdout",
          "output_type": "stream",
          "text": [
            "2\n"
          ]
        }
      ],
      "source": [
        "#min\n",
        "arr=np.array([2,3,4,5])\n",
        "\n",
        "min=arr[0]\n",
        "for i in arr:\n",
        "    if i<min:\n",
        "        min=i\n",
        "print(min)"
      ]
    },
    {
      "cell_type": "markdown",
      "id": "e7fa0c7f",
      "metadata": {
        "id": "e7fa0c7f"
      },
      "source": [
        "## **Q4**"
      ]
    },
    {
      "cell_type": "code",
      "execution_count": null,
      "id": "76399c6d",
      "metadata": {
        "id": "76399c6d",
        "outputId": "bbae3a82-1841-4f94-ba46-ca94441efdab"
      },
      "outputs": [
        {
          "name": "stdout",
          "output_type": "stream",
          "text": [
            "Original array: [2 3 4 5]\n",
            "Reversed array: [5 4 3 2]\n"
          ]
        }
      ],
      "source": [
        "#reverse\n",
        "\n",
        "def reverse_array(arr):\n",
        "    length = arr.size\n",
        "\n",
        "    for i in range(length // 2):\n",
        "        arr[i], arr[length - 1 - i] = arr[length - 1 - i], arr[i]\n",
        "\n",
        "# Example usage:\n",
        "arr = np.array([2, 3, 4, 5])\n",
        "\n",
        "print(\"Original array:\", arr)\n",
        "\n",
        "reverse_array(arr)\n",
        "\n",
        "print(\"Reversed array:\", arr)\n"
      ]
    }
  ],
  "metadata": {
    "kernelspec": {
      "display_name": "Python 3 (ipykernel)",
      "language": "python",
      "name": "python3"
    },
    "language_info": {
      "codemirror_mode": {
        "name": "ipython",
        "version": 3
      },
      "file_extension": ".py",
      "mimetype": "text/x-python",
      "name": "python",
      "nbconvert_exporter": "python",
      "pygments_lexer": "ipython3",
      "version": "3.11.5"
    },
    "colab": {
      "provenance": []
    }
  },
  "nbformat": 4,
  "nbformat_minor": 5
}